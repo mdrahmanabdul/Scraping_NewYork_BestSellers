{
 "cells": [
  {
   "cell_type": "markdown",
   "id": "9d0000ef",
   "metadata": {},
   "source": [
    "## Install all the required modules if not installed"
   ]
  },
  {
   "cell_type": "code",
   "execution_count": 1,
   "id": "1f7500b5",
   "metadata": {},
   "outputs": [
    {
     "name": "stdout",
     "output_type": "stream",
     "text": [
      "Requirement already satisfied: bs4 in /Users/rahman/micromamba/lib/python3.9/site-packages (0.0.1)\n",
      "Requirement already satisfied: beautifulsoup4 in /Users/rahman/micromamba/lib/python3.9/site-packages (from bs4) (4.12.2)\n",
      "Requirement already satisfied: soupsieve>1.2 in /Users/rahman/micromamba/lib/python3.9/site-packages (from beautifulsoup4->bs4) (2.4.1)\n",
      "Requirement already satisfied: requests in /Users/rahman/micromamba/lib/python3.9/site-packages (2.27.1)\n",
      "Requirement already satisfied: urllib3<1.27,>=1.21.1 in /Users/rahman/micromamba/lib/python3.9/site-packages (from requests) (1.25.11)\n",
      "Requirement already satisfied: certifi>=2017.4.17 in /Users/rahman/micromamba/lib/python3.9/site-packages (from requests) (2023.5.7)\n",
      "Requirement already satisfied: charset-normalizer~=2.0.0 in /Users/rahman/micromamba/lib/python3.9/site-packages (from requests) (2.0.12)\n",
      "Requirement already satisfied: idna<4,>=2.5 in /Users/rahman/micromamba/lib/python3.9/site-packages (from requests) (3.4)\n"
     ]
    }
   ],
   "source": [
    "!pip install bs4\n",
    "!pip install requests"
   ]
  },
  {
   "cell_type": "markdown",
   "id": "65bab19b",
   "metadata": {},
   "source": [
    "## Import the libraries"
   ]
  },
  {
   "cell_type": "code",
   "execution_count": 2,
   "id": "6728ca0a",
   "metadata": {},
   "outputs": [],
   "source": [
    "from bs4 import BeautifulSoup\n",
    "import requests\n",
    "import pandas as pd"
   ]
  },
  {
   "cell_type": "markdown",
   "id": "b016b7af",
   "metadata": {},
   "source": [
    "## Scraping the website"
   ]
  },
  {
   "cell_type": "code",
   "execution_count": 3,
   "id": "bf70c7f0",
   "metadata": {},
   "outputs": [],
   "source": [
    " try:\n",
    "    source = requests.get('https://www.nytimes.com/books/best-sellers/')\n",
    "    source.raise_for_status()\n",
    "    soup=BeautifulSoup(source.text,'html.parser')\n",
    "    \n",
    "    books = soup.find_all(\"h3\",class_=\"css-i1z3c1\")\n",
    "    book_titles_text = [i.get_text() for i in books]\n",
    "    \n",
    "    df = pd.DataFrame()\n",
    "    df['Book title'] = book_titles_text\n",
    "    \n",
    "    author_tags = soup.find_all(\"p\",class_=\"css-1nxjbfc\")\n",
    "    author = [author.get_text() for author in author_tags]\n",
    "    \n",
    "    df['author'] = author\n",
    "    df['author'] = df['author'].apply(lambda x : x.replace('by ',''))\n",
    "    \n",
    "    acheivement = soup.find_all(\"p\",class_=\"css-t7cods\")\n",
    "    acheivements = [ach.get_text() for ach in acheivement]\n",
    "    \n",
    "    df['Achievement'] = acheivements\n",
    "    \n",
    "    df.index = df.index+1\n",
    "    \n",
    "    df.to_csv('NY_BestSeller.csv',index=True)\n",
    "    \n",
    "except Exception as e:\n",
    "    print(e)"
   ]
  },
  {
   "cell_type": "code",
   "execution_count": 4,
   "id": "adb5b8a4",
   "metadata": {},
   "outputs": [
    {
     "data": {
      "text/html": [
       "<div>\n",
       "<style scoped>\n",
       "    .dataframe tbody tr th:only-of-type {\n",
       "        vertical-align: middle;\n",
       "    }\n",
       "\n",
       "    .dataframe tbody tr th {\n",
       "        vertical-align: top;\n",
       "    }\n",
       "\n",
       "    .dataframe thead th {\n",
       "        text-align: right;\n",
       "    }\n",
       "</style>\n",
       "<table border=\"1\" class=\"dataframe\">\n",
       "  <thead>\n",
       "    <tr style=\"text-align: right;\">\n",
       "      <th></th>\n",
       "      <th>Book title</th>\n",
       "      <th>author</th>\n",
       "      <th>Achievement</th>\n",
       "    </tr>\n",
       "  </thead>\n",
       "  <tbody>\n",
       "    <tr>\n",
       "      <th>1</th>\n",
       "      <td>TOO LATE</td>\n",
       "      <td>Colleen Hoover</td>\n",
       "      <td>2 weeks on the list</td>\n",
       "    </tr>\n",
       "    <tr>\n",
       "      <th>2</th>\n",
       "      <td>FOURTH WING</td>\n",
       "      <td>Rebecca Yarros</td>\n",
       "      <td>10 weeks on the list</td>\n",
       "    </tr>\n",
       "    <tr>\n",
       "      <th>3</th>\n",
       "      <td>IT ENDS WITH US</td>\n",
       "      <td>Colleen Hoover</td>\n",
       "      <td>108 weeks on the list</td>\n",
       "    </tr>\n",
       "    <tr>\n",
       "      <th>4</th>\n",
       "      <td>THE FIVE-STAR WEEKEND</td>\n",
       "      <td>Elin Hilderbrand</td>\n",
       "      <td>4 weeks on the list</td>\n",
       "    </tr>\n",
       "    <tr>\n",
       "      <th>5</th>\n",
       "      <td>HAPPY PLACE</td>\n",
       "      <td>Emily Henry</td>\n",
       "      <td>11 weeks on the list</td>\n",
       "    </tr>\n",
       "  </tbody>\n",
       "</table>\n",
       "</div>"
      ],
      "text/plain": [
       "              Book title            author            Achievement\n",
       "1               TOO LATE    Colleen Hoover    2 weeks on the list\n",
       "2            FOURTH WING    Rebecca Yarros   10 weeks on the list\n",
       "3        IT ENDS WITH US    Colleen Hoover  108 weeks on the list\n",
       "4  THE FIVE-STAR WEEKEND  Elin Hilderbrand    4 weeks on the list\n",
       "5            HAPPY PLACE       Emily Henry   11 weeks on the list"
      ]
     },
     "execution_count": 4,
     "metadata": {},
     "output_type": "execute_result"
    }
   ],
   "source": [
    "df.head()"
   ]
  },
  {
   "cell_type": "code",
   "execution_count": null,
   "id": "3368bfe2",
   "metadata": {
    "scrolled": true
   },
   "outputs": [],
   "source": []
  },
  {
   "cell_type": "code",
   "execution_count": null,
   "id": "13083d6a",
   "metadata": {},
   "outputs": [],
   "source": []
  },
  {
   "cell_type": "code",
   "execution_count": null,
   "id": "9e93ef96",
   "metadata": {},
   "outputs": [],
   "source": []
  },
  {
   "cell_type": "code",
   "execution_count": null,
   "id": "d4755379",
   "metadata": {},
   "outputs": [],
   "source": []
  },
  {
   "cell_type": "code",
   "execution_count": null,
   "id": "c6ba752e",
   "metadata": {},
   "outputs": [],
   "source": []
  },
  {
   "cell_type": "code",
   "execution_count": null,
   "id": "f3a70e26",
   "metadata": {},
   "outputs": [],
   "source": []
  }
 ],
 "metadata": {
  "kernelspec": {
   "display_name": "Python 3 (ipykernel)",
   "language": "python",
   "name": "python3"
  },
  "language_info": {
   "codemirror_mode": {
    "name": "ipython",
    "version": 3
   },
   "file_extension": ".py",
   "mimetype": "text/x-python",
   "name": "python",
   "nbconvert_exporter": "python",
   "pygments_lexer": "ipython3",
   "version": "3.10.9"
  }
 },
 "nbformat": 4,
 "nbformat_minor": 5
}
